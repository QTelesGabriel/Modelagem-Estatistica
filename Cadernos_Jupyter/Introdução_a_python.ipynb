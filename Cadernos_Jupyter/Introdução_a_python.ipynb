{
 "cells": [
  {
   "cell_type": "code",
   "execution_count": 1,
   "id": "e2b2fcff",
   "metadata": {},
   "outputs": [
    {
     "name": "stdout",
     "output_type": "stream",
     "text": [
      "Olá, mundo!\n"
     ]
    }
   ],
   "source": [
    "print(\"Olá, mundo!\")"
   ]
  },
  {
   "cell_type": "code",
   "execution_count": 3,
   "id": "f3d79d59",
   "metadata": {},
   "outputs": [
    {
     "name": "stdout",
     "output_type": "stream",
     "text": [
      "Nossa aula está muito divertida!\n",
      "<class 'str'>\n"
     ]
    },
    {
     "data": {
      "text/plain": [
       "'\\nBloco de comentários\\nPascalCase\\ncamelCase\\nsnake_case\\n'"
      ]
     },
     "execution_count": 3,
     "metadata": {},
     "output_type": "execute_result"
    }
   ],
   "source": [
    "mensagem_aula = \"Nossa aula está muito divertida!\"\n",
    "# MensagemAula\n",
    "# mensagemAula\n",
    "print(mensagem_aula)\n",
    "print(type(mensagem_aula))\n",
    "\"\"\"\n",
    "Bloco de comentários\n",
    "PascalCase\n",
    "camelCase\n",
    "snake_case\n",
    "\"\"\""
   ]
  },
  {
   "cell_type": "code",
   "execution_count": 5,
   "id": "d525e5e5",
   "metadata": {},
   "outputs": [
    {
     "name": "stdout",
     "output_type": "stream",
     "text": [
      "3\n",
      "<class 'int'>\n",
      "2.1\n"
     ]
    },
    {
     "data": {
      "text/plain": [
       "float"
      ]
     },
     "execution_count": 5,
     "metadata": {},
     "output_type": "execute_result"
    }
   ],
   "source": [
    "# Tipos de variáveis\n",
    "\n",
    "# int\n",
    "a = 1\n",
    "b = 2\n",
    "print(a + b)\n",
    "print(type(a))\n",
    "\n",
    "#float\n",
    "c = 1.0\n",
    "d = 1.1\n",
    "print(c + d)\n",
    "type(c)"
   ]
  },
  {
   "cell_type": "code",
   "execution_count": 6,
   "id": "c5a63f58",
   "metadata": {},
   "outputs": [
    {
     "name": "stdout",
     "output_type": "stream",
     "text": [
      "<class 'bool'>\n",
      "Vamos começar essaa aula de uma vez!\n"
     ]
    }
   ],
   "source": [
    "# Bool\n",
    "tomou_cafe = False # True\n",
    "print(type(tomou_cafe))\n",
    "if tomou_cafe:\n",
    "    mensagem = \"Bom dia, turma querida!\"\n",
    "else:\n",
    "    mensagem = \"Vamos começar essaa aula de uma vez!\"\n",
    "print(mensagem)"
   ]
  },
  {
   "cell_type": "code",
   "execution_count": 7,
   "id": "2ec98464",
   "metadata": {},
   "outputs": [
    {
     "name": "stdout",
     "output_type": "stream",
     "text": [
      "\n",
      "Prof. Álvaro disse: \n"
     ]
    }
   ],
   "source": [
    "def escrever_mensagem(mensagem=\"\"):\n",
    "    \"\"\"\n",
    "    Constrói a mensagem do professor Álvaro\n",
    "    RETURNS: str\n",
    "    \"\"\"\n",
    "    mensagem = \"Prof. Álvaro disse: \" + mensagem\n",
    "    return mensagem\n",
    "escrever_mensagem()\n",
    "print()\n",
    "print(escrever_mensagem())"
   ]
  },
  {
   "cell_type": "code",
   "execution_count": 8,
   "id": "3dfd76d0",
   "metadata": {},
   "outputs": [
    {
     "name": "stdout",
     "output_type": "stream",
     "text": [
      "Help on function escrever_mensagem in module __main__:\n",
      "\n",
      "escrever_mensagem(mensagem='')\n",
      "    Constrói a mensagem do professor Álvaro\n",
      "    RETURNS: str\n",
      "\n"
     ]
    }
   ],
   "source": [
    "help(escrever_mensagem)"
   ]
  },
  {
   "cell_type": "code",
   "execution_count": 9,
   "id": "ec566056",
   "metadata": {},
   "outputs": [
    {
     "name": "stdout",
     "output_type": "stream",
     "text": [
      "Prof. Álvaro disse: Aula encerrada!\n"
     ]
    }
   ],
   "source": [
    "print(escrever_mensagem(\"Aula encerrada!\"))"
   ]
  },
  {
   "cell_type": "code",
   "execution_count": null,
   "id": "5b9c6c4d",
   "metadata": {},
   "outputs": [],
   "source": []
  }
 ],
 "metadata": {
  "kernelspec": {
   "display_name": "Python 3 (ipykernel)",
   "language": "python",
   "name": "python3"
  },
  "language_info": {
   "codemirror_mode": {
    "name": "ipython",
    "version": 3
   },
   "file_extension": ".py",
   "mimetype": "text/x-python",
   "name": "python",
   "nbconvert_exporter": "python",
   "pygments_lexer": "ipython3",
   "version": "3.11.4"
  }
 },
 "nbformat": 4,
 "nbformat_minor": 5
}
