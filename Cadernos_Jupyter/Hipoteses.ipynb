{
 "cells": [
  {
   "cell_type": "code",
   "execution_count": 8,
   "id": "93210266",
   "metadata": {},
   "outputs": [
    {
     "data": {
      "text/plain": [
       "TtestResult(statistic=100.53643870628103, pvalue=0.0, df=9999)"
      ]
     },
     "execution_count": 8,
     "metadata": {},
     "output_type": "execute_result"
    }
   ],
   "source": [
    "import numpy as np\n",
    "from scipy.stats import ttest_1samp, ttest_ind\n",
    "\n",
    "# Vamos ver se nossa moeda é viciada\n",
    "n_jogadas = 10000\n",
    "jogadas = []\n",
    "for i in range(n_jogadas):\n",
    "    jogadas.append(np.random.randint(0,2))\n",
    "jogadas = np.array(jogadas)\n",
    "ttest_1samp(jogadas,popmean=0.0)"
   ]
  },
  {
   "cell_type": "code",
   "execution_count": 13,
   "id": "ac1e3339",
   "metadata": {},
   "outputs": [
    {
     "data": {
      "text/plain": [
       "(array([4973.,    0.,    0.,    0.,    0.,    0.,    0.,    0.,    0.,\n",
       "        5027.]),\n",
       " array([0. , 0.1, 0.2, 0.3, 0.4, 0.5, 0.6, 0.7, 0.8, 0.9, 1. ]),\n",
       " <BarContainer object of 10 artists>)"
      ]
     },
     "execution_count": 13,
     "metadata": {},
     "output_type": "execute_result"
    },
    {
     "data": {
      "image/png": "[encoded data removed]",
      "text/plain": [
       "<Figure size 640x480 with 1 Axes>"
      ]
     },
     "metadata": {},
     "output_type": "display_data"
    }
   ],
   "source": [
    "import matplotlib.pyplot as plt\n",
    "plt.hist(jogadas)"
   ]
  },
  {
   "cell_type": "code",
   "execution_count": 10,
   "id": "6cb11b6a",
   "metadata": {},
   "outputs": [
    {
     "data": {
      "text/plain": [
       "TtestResult(statistic=0.5399808723034859, pvalue=0.589222249070136, df=9999)"
      ]
     },
     "execution_count": 10,
     "metadata": {},
     "output_type": "execute_result"
    }
   ],
   "source": [
    "ttest_1samp(jogadas,popmean=0.5) # Hipótese nula é que a média da população é meio (0.5)"
   ]
  },
  {
   "cell_type": "code",
   "execution_count": 20,
   "id": "5e044bf2",
   "metadata": {},
   "outputs": [
    {
     "data": {
      "text/plain": [
       "TtestResult(statistic=-9.459664911094277, pvalue=3.78636086666684e-21, df=9999)"
      ]
     },
     "execution_count": 20,
     "metadata": {},
     "output_type": "execute_result"
    }
   ],
   "source": [
    "ttest_1samp(jogadas,popmean=0.55) # Testando a hipótese de que a média é igual a 0.55\n",
    "# RESULTADO: Está errado"
   ]
  },
  {
   "cell_type": "code",
   "execution_count": 21,
   "id": "2e27ff0f",
   "metadata": {},
   "outputs": [
    {
     "data": {
      "text/plain": [
       "TtestResult(statistic=10.53962665570124, pvalue=7.747430433122448e-26, df=9999)"
      ]
     },
     "execution_count": 21,
     "metadata": {},
     "output_type": "execute_result"
    }
   ],
   "source": [
    "ttest_1samp(jogadas,popmean=0.45) # Testando a hipótese de que a média é igual a 0.45\n",
    "# RESULTADO: Está errado"
   ]
  },
  {
   "cell_type": "code",
   "execution_count": 23,
   "id": "908c1f2b",
   "metadata": {},
   "outputs": [
    {
     "data": {
      "text/plain": [
       "TtestResult(statistic=-3.4598774410556197, pvalue=0.0005426760708654017, df=9999)"
      ]
     },
     "execution_count": 23,
     "metadata": {},
     "output_type": "execute_result"
    }
   ],
   "source": [
    "ttest_1samp(jogadas,popmean=0.52)"
   ]
  },
  {
   "cell_type": "code",
   "execution_count": 24,
   "id": "74f9675b",
   "metadata": {},
   "outputs": [
    {
     "data": {
      "text/plain": [
       "TtestResult(statistic=-5.459806597735173, pvalue=4.880568649962173e-08, df=9999)"
      ]
     },
     "execution_count": 24,
     "metadata": {},
     "output_type": "execute_result"
    }
   ],
   "source": [
    "ttest_1samp(jogadas,popmean=0.53)"
   ]
  },
  {
   "cell_type": "code",
   "execution_count": 25,
   "id": "a4b16ddd",
   "metadata": {},
   "outputs": [],
   "source": [
    "# PARA A HIPÓTESE SER REJEITADA O (pvalue) DEVE SER MENOR QUE 0.5"
   ]
  },
  {
   "cell_type": "code",
   "execution_count": 31,
   "id": "9578855b",
   "metadata": {},
   "outputs": [
    {
     "data": {
      "text/plain": [
       "Ttest_indResult(statistic=0.5749355774319368, pvalue=0.5659875788494553)"
      ]
     },
     "execution_count": 31,
     "metadata": {},
     "output_type": "execute_result"
    }
   ],
   "source": [
    "jogadas\n",
    "jogadas_0 = np.random.choice(jogadas, size = 100)\n",
    "jogadas_1 = np.random.choice(jogadas, size = 100)\n",
    "ttest_ind(jogadas_0, jogadas_1)"
   ]
  },
  {
   "cell_type": "code",
   "execution_count": 35,
   "id": "478f53a8",
   "metadata": {},
   "outputs": [
    {
     "data": {
      "text/plain": [
       "0.6762173796072101"
      ]
     },
     "execution_count": 35,
     "metadata": {},
     "output_type": "execute_result"
    }
   ],
   "source": [
    "jogadas\n",
    "jogadas_2 = []\n",
    "for jogada in jogadas:\n",
    "    if np.random.randint(0, 2) > 0:\n",
    "        if jogada > 0:\n",
    "            jogadas_2.append(jogada)\n",
    "    else:\n",
    "        jogadas_2.append(jogada)\n",
    "np.mean(jogadas_2)\n",
    "# Amostra de um dado viciado - não honesto"
   ]
  },
  {
   "cell_type": "code",
   "execution_count": 36,
   "id": "d2ffd501",
   "metadata": {},
   "outputs": [
    {
     "data": {
      "text/plain": [
       "Ttest_indResult(statistic=-5.4344448728884975, pvalue=5.6686921933474295e-08)"
      ]
     },
     "execution_count": 36,
     "metadata": {},
     "output_type": "execute_result"
    }
   ],
   "source": [
    "ttest_ind(jogadas_0, jogadas_2)"
   ]
  },
  {
   "cell_type": "code",
   "execution_count": null,
   "id": "c708ebb0",
   "metadata": {},
   "outputs": [],
   "source": []
  }
 ],
 "metadata": {
  "kernelspec": {
   "display_name": "Python 3 (ipykernel)",
   "language": "python",
   "name": "python3"
  },
  "language_info": {
   "codemirror_mode": {
    "name": "ipython",
    "version": 3
   },
   "file_extension": ".py",
   "mimetype": "text/x-python",
   "name": "python",
   "nbconvert_exporter": "python",
   "pygments_lexer": "ipython3",
   "version": "3.11.4"
  }
 },
 "nbformat": 4,
 "nbformat_minor": 5
}
